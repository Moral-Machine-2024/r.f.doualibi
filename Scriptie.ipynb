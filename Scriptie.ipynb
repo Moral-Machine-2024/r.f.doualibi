{
 "cells": [
  {
   "cell_type": "code",
   "execution_count": 15,
   "id": "01881d05-73a3-4207-966f-da326cd70d2e",
   "metadata": {},
   "outputs": [
    {
     "name": "stdout",
     "output_type": "stream",
     "text": [
      "The code took 4.98 seconds to run.\n",
      "               ResponseID               ExtendedSessionID        UserID  \\\n",
      "0       2222bRQqBTZ6dLnPH     32757157_6999801415950060.0  6.999801e+15   \n",
      "1       2222sJk4DcoqXXi98         1043988516_3525281295.0  3.525281e+09   \n",
      "2       2223CNmvTr2Coj4wp   -1613944085_422160228641876.0  4.221602e+14   \n",
      "3       2223Xu54ufgjcyMR3    1425316635_327833569077076.0  3.278336e+14   \n",
      "4       2223jMWDEGNeszivb   -1683127088_785070916172117.0  7.850709e+14   \n",
      "...                   ...                             ...           ...   \n",
      "999995  3auva7oHvXAiPfGt6           -410869628_1365614898  1.365615e+09   \n",
      "999996  3auvpzjwqpALthGT8     609149391_781209405168894.0  7.812094e+14   \n",
      "999997  3auwGaCdxjK3fPXEX        -1345559543_3873804849.0  3.873805e+09   \n",
      "999998  3auwHrDCCBXZqemiY            324767050_1627607648  1.627608e+09   \n",
      "999999  3auwnG8uvmtvfFN6r  -1638298988_7086640336207390.0  7.086640e+15   \n",
      "\n",
      "        ScenarioOrder  Intervention  PedPed  Barrier  CrossingSignal  \\\n",
      "0                   7             0       0        0               1   \n",
      "1                   2             0       0        0               0   \n",
      "2                  10             0       1        0               1   \n",
      "3                  11             0       0        1               0   \n",
      "4                   8             0       1        0               2   \n",
      "...               ...           ...     ...      ...             ...   \n",
      "999995              3             0       1        0               2   \n",
      "999996              5             0       1        0               2   \n",
      "999997             12             0       1        0               1   \n",
      "999998              1             0       0        1               0   \n",
      "999999              3             0       0        1               0   \n",
      "\n",
      "       AttributeLevel ScenarioTypeStrict  ... LargeMan Criminal MaleExecutive  \\\n",
      "0                 Fit            Fitness  ...      0.0      0.0           0.0   \n",
      "1                Rand             Random  ...      0.0      0.0           1.0   \n",
      "2              Female             Gender  ...      0.0      0.0           0.0   \n",
      "3                 Old                Age  ...      0.0      0.0           0.0   \n",
      "4                More        Utilitarian  ...      0.0      1.0           1.0   \n",
      "...               ...                ...  ...      ...      ...           ...   \n",
      "999995           Pets            Species  ...      0.0      0.0           0.0   \n",
      "999996            Fat            Fitness  ...      0.0      0.0           0.0   \n",
      "999997           More             Random  ...      0.0      0.0           0.0   \n",
      "999998           Pets            Species  ...      0.0      0.0           0.0   \n",
      "999999          Young                Age  ...      0.0      0.0           0.0   \n",
      "\n",
      "        FemaleExecutive  FemaleAthlete  MaleAthlete  FemaleDoctor MaleDoctor  \\\n",
      "0                   0.0            1.0          2.0           0.0        0.0   \n",
      "1                   0.0            0.0          0.0           0.0        0.0   \n",
      "2                   1.0            0.0          0.0           0.0        0.0   \n",
      "3                   0.0            0.0          0.0           0.0        0.0   \n",
      "4                   0.0            1.0          0.0           0.0        0.0   \n",
      "...                 ...            ...          ...           ...        ...   \n",
      "999995              0.0            0.0          0.0           0.0        0.0   \n",
      "999996              0.0            0.0          0.0           0.0        0.0   \n",
      "999997              0.0            1.0          0.0           1.0        0.0   \n",
      "999998              0.0            0.0          0.0           0.0        0.0   \n",
      "999999              0.0            0.0          0.0           0.0        0.0   \n",
      "\n",
      "        Dog  Cat  \n",
      "0       0.0  0.0  \n",
      "1       0.0  0.0  \n",
      "2       0.0  0.0  \n",
      "3       0.0  0.0  \n",
      "4       1.0  0.0  \n",
      "...     ...  ...  \n",
      "999995  3.0  2.0  \n",
      "999996  0.0  0.0  \n",
      "999997  0.0  0.0  \n",
      "999998  2.0  1.0  \n",
      "999999  0.0  0.0  \n",
      "\n",
      "[1000000 rows x 41 columns]\n"
     ]
    }
   ],
   "source": [
    "import pandas as pd\n",
    "import time\n",
    "\n",
    "\n",
    "start_time = time.time()\n",
    "df = pd.read_csv(\"SharedResponses.csv\", nrows = 1000000)\n",
    "end_time = time.time()\n",
    "elapsed_time = end_time - start_time\n",
    "print(f\"The code took {elapsed_time:.2f} seconds to run.\")\n",
    "print(df)\n",
    "\n"
   ]
  }
 ],
 "metadata": {
  "kernelspec": {
   "display_name": "Python 3 (ipykernel)",
   "language": "python",
   "name": "python3"
  },
  "language_info": {
   "codemirror_mode": {
    "name": "ipython",
    "version": 3
   },
   "file_extension": ".py",
   "mimetype": "text/x-python",
   "name": "python",
   "nbconvert_exporter": "python",
   "pygments_lexer": "ipython3",
   "version": "3.9.13"
  }
 },
 "nbformat": 4,
 "nbformat_minor": 5
}
